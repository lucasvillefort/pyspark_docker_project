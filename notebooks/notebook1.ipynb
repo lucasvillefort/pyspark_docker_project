{
 "cells": [
  {
   "cell_type": "code",
   "execution_count": null,
   "id": "7646e341-be7a-4129-a54b-fbdb94f92dd0",
   "metadata": {},
   "outputs": [],
   "source": [
    "from pyspark.sql import SparkSession\n",
    "\n",
    "# Configure SparkSession to connect to the Spark Master in Docker\n",
    "spark = SparkSession.builder \\\n",
    "    .appName(\"VSCodeSparkNotebook\") \\\n",
    "    .master(\"spark://172.19.0.2:7077\") \\\n",
    "    .getOrCreate()\n",
    "# Example: Load and display a DataFrame\n",
    "import os\n",
    "\n",
    "# Print the current working directory\n",
    "print(os.getcwd())\n"
   ]
  },
  {
   "cell_type": "code",
   "execution_count": 1,
   "id": "f01ff60a-17e5-42d2-b153-4df14627fa8e",
   "metadata": {},
   "outputs": [
    {
     "ename": "NameError",
     "evalue": "name 'df' is not defined",
     "output_type": "error",
     "traceback": [
      "\u001b[1;31m---------------------------------------------------------\u001b[0m",
      "\u001b[1;31mNameError\u001b[0m               Traceback (most recent call last)",
      "Cell \u001b[1;32mIn[1], line 1\u001b[0m\n\u001b[1;32m----> 1\u001b[0m \u001b[43mdf\u001b[49m\u001b[38;5;241m.\u001b[39mshow()\n",
      "\u001b[1;31mNameError\u001b[0m: name 'df' is not defined"
     ]
    }
   ],
   "source": [
    "df.show()"
   ]
  },
  {
   "cell_type": "code",
   "execution_count": null,
   "id": "cf583450-8575-43d8-900e-ad7aa5294592",
   "metadata": {},
   "outputs": [],
   "source": []
  },
  {
   "cell_type": "code",
   "execution_count": null,
   "id": "a306015d-078e-4f20-ab8b-d9d3d0f809dc",
   "metadata": {},
   "outputs": [],
   "source": []
  },
  {
   "cell_type": "code",
   "execution_count": null,
   "id": "73df163b-a8c6-4bc3-abf3-8fb0017644f1",
   "metadata": {},
   "outputs": [],
   "source": []
  },
  {
   "cell_type": "code",
   "execution_count": null,
   "id": "452f0802-daa3-434a-85ec-a58dd121b088",
   "metadata": {},
   "outputs": [],
   "source": []
  }
 ],
 "metadata": {
  "kernelspec": {
   "display_name": "Python 3 (ipykernel)",
   "language": "python",
   "name": "python3"
  },
  "language_info": {
   "codemirror_mode": {
    "name": "ipython",
    "version": 3
   },
   "file_extension": ".py",
   "mimetype": "text/x-python",
   "name": "python",
   "nbconvert_exporter": "python",
   "pygments_lexer": "ipython3",
   "version": "3.12.0"
  }
 },
 "nbformat": 4,
 "nbformat_minor": 5
}
